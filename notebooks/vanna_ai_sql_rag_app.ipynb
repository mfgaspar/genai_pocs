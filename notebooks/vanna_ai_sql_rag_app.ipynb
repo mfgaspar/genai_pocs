{
  "cells": [
    {
      "cell_type": "code",
      "execution_count": 1,
      "metadata": {
        "colab": {
          "base_uri": "https://localhost:8080/"
        },
        "id": "ifHBq2mt2aSl",
        "outputId": "f3c63130-147d-41bd-8b58-898021243074"
      },
      "outputs": [
        {
          "output_type": "stream",
          "name": "stdout",
          "text": [
            "Collecting vanna\n",
            "  Downloading vanna-0.0.36-py3-none-any.whl (48 kB)\n",
            "\u001b[2K     \u001b[90m━━━━━━━━━━━━━━━━━━━━━━━━━━━━━━━━━━━━━━━━\u001b[0m \u001b[32m48.8/48.8 kB\u001b[0m \u001b[31m1.0 MB/s\u001b[0m eta \u001b[36m0:00:00\u001b[0m\n",
            "\u001b[?25hRequirement already satisfied: requests in /usr/local/lib/python3.10/dist-packages (from vanna) (2.31.0)\n",
            "Requirement already satisfied: tabulate in /usr/local/lib/python3.10/dist-packages (from vanna) (0.9.0)\n",
            "Requirement already satisfied: plotly in /usr/local/lib/python3.10/dist-packages (from vanna) (5.15.0)\n",
            "Requirement already satisfied: pandas in /usr/local/lib/python3.10/dist-packages (from vanna) (1.5.3)\n",
            "Requirement already satisfied: sqlparse in /usr/local/lib/python3.10/dist-packages (from vanna) (0.4.4)\n",
            "Collecting kaleido (from vanna)\n",
            "  Downloading kaleido-0.2.1-py2.py3-none-manylinux1_x86_64.whl (79.9 MB)\n",
            "\u001b[2K     \u001b[90m━━━━━━━━━━━━━━━━━━━━━━━━━━━━━━━━━━━━━━━━\u001b[0m \u001b[32m79.9/79.9 MB\u001b[0m \u001b[31m6.7 MB/s\u001b[0m eta \u001b[36m0:00:00\u001b[0m\n",
            "\u001b[?25hRequirement already satisfied: python-dateutil>=2.8.1 in /usr/local/lib/python3.10/dist-packages (from pandas->vanna) (2.8.2)\n",
            "Requirement already satisfied: pytz>=2020.1 in /usr/local/lib/python3.10/dist-packages (from pandas->vanna) (2023.3.post1)\n",
            "Requirement already satisfied: numpy>=1.21.0 in /usr/local/lib/python3.10/dist-packages (from pandas->vanna) (1.23.5)\n",
            "Requirement already satisfied: tenacity>=6.2.0 in /usr/local/lib/python3.10/dist-packages (from plotly->vanna) (8.2.3)\n",
            "Requirement already satisfied: packaging in /usr/local/lib/python3.10/dist-packages (from plotly->vanna) (23.2)\n",
            "Requirement already satisfied: charset-normalizer<4,>=2 in /usr/local/lib/python3.10/dist-packages (from requests->vanna) (3.3.2)\n",
            "Requirement already satisfied: idna<4,>=2.5 in /usr/local/lib/python3.10/dist-packages (from requests->vanna) (3.6)\n",
            "Requirement already satisfied: urllib3<3,>=1.21.1 in /usr/local/lib/python3.10/dist-packages (from requests->vanna) (2.0.7)\n",
            "Requirement already satisfied: certifi>=2017.4.17 in /usr/local/lib/python3.10/dist-packages (from requests->vanna) (2023.11.17)\n",
            "Requirement already satisfied: six>=1.5 in /usr/local/lib/python3.10/dist-packages (from python-dateutil>=2.8.1->pandas->vanna) (1.16.0)\n",
            "Installing collected packages: kaleido, vanna\n",
            "\u001b[31mERROR: pip's dependency resolver does not currently take into account all the packages that are installed. This behaviour is the source of the following dependency conflicts.\n",
            "lida 0.0.10 requires fastapi, which is not installed.\n",
            "lida 0.0.10 requires python-multipart, which is not installed.\n",
            "lida 0.0.10 requires uvicorn, which is not installed.\u001b[0m\u001b[31m\n",
            "\u001b[0mSuccessfully installed kaleido-0.2.1 vanna-0.0.36\n"
          ]
        }
      ],
      "source": [
        "!pip install vanna\n",
        "import vanna\n",
        "from vanna.remote import VannaDefault\n",
        "vn = VannaDefault(model='chinook', api_key='2b4a743f5b39431f906a4b494e2ab569')\n",
        "vn.connect_to_sqlite('https://vanna.ai/Chinook.sqlite')"
      ]
    },
    {
      "cell_type": "code",
      "source": [
        "question=\"Total sales for U2 per year?\"\n",
        "sql = vn.generate_sql(question=question)\n",
        "print(sql)\n",
        "df = vn.run_sql(sql)\n",
        "print(df)\n",
        "followup = vn.generate_followup_questions(question=question, df=df)\n",
        "print(followup)\n",
        "\n"
      ],
      "metadata": {
        "colab": {
          "base_uri": "https://localhost:8080/"
        },
        "id": "ysTJgKV04Eea",
        "outputId": "71d8c1d9-2190-427e-9b60-489029f57b0c"
      },
      "execution_count": 33,
      "outputs": [
        {
          "output_type": "stream",
          "name": "stdout",
          "text": [
            "SELECT strftime('%Y', i.InvoiceDate) AS Year, SUM(i.Total) AS TotalSales\n",
            "FROM Invoice i\n",
            "JOIN Customer c ON i.CustomerId = c.CustomerId\n",
            "JOIN InvoiceLine il ON i.InvoiceId = il.InvoiceId\n",
            "JOIN Track t ON il.TrackId = t.TrackId\n",
            "JOIN Album al ON t.AlbumId = al.AlbumId\n",
            "JOIN Artist a ON al.ArtistId = a.ArtistId\n",
            "WHERE a.Name = 'U2'\n",
            "GROUP BY Year;\n",
            "   Year  TotalSales\n",
            "0  2010      240.03\n",
            "1  2011      245.10\n",
            "2  2012      244.02\n",
            "3  2013      166.44\n",
            "['What are the top-selling albums of all time?', 'Which genre has the highest total sales?', 'Who are the top-selling artists in terms of total sales?', 'What are the total sales for each year?', 'Which artist has the highest number of tracks?', 'What is the average unit price of tracks?', 'Which country has the highest total sales?', 'What is the distribution of sales by media type?', 'What are the total sales for each customer?', 'Which employee has the highest sales?']\n"
          ]
        }
      ]
    },
    {
      "cell_type": "code",
      "source": [
        "print(df)\n"
      ],
      "metadata": {
        "colab": {
          "base_uri": "https://localhost:8080/"
        },
        "id": "5TG6YARTAyJy",
        "outputId": "61d3b067-f077-4e3f-8ec1-c1d8910c38c8"
      },
      "execution_count": 38,
      "outputs": [
        {
          "output_type": "stream",
          "name": "stdout",
          "text": [
            "   Year  TotalSales\n",
            "0  2010      240.03\n",
            "1  2011      245.10\n",
            "2  2012      244.02\n",
            "3  2013      166.44\n"
          ]
        }
      ]
    },
    {
      "cell_type": "code",
      "execution_count": null,
      "metadata": {
        "colab": {
          "base_uri": "https://localhost:8080/",
          "height": 106
        },
        "id": "_yGKOA1r2aSm",
        "outputId": "6e533c52-6ed1-4690-d852-f0d83f8a91a7"
      },
      "outputs": [
        {
          "data": {
            "application/javascript": [
              "(async (port, path, text, element) => {\n",
              "    if (!google.colab.kernel.accessAllowed) {\n",
              "      return;\n",
              "    }\n",
              "    element.appendChild(document.createTextNode(''));\n",
              "    const url = await google.colab.kernel.proxyPort(port);\n",
              "    const anchor = document.createElement('a');\n",
              "    anchor.href = new URL(path, url).toString();\n",
              "    anchor.target = '_blank';\n",
              "    anchor.setAttribute('data-href', url + path);\n",
              "    anchor.textContent = text;\n",
              "    element.appendChild(anchor);\n",
              "  })(8084, \"/\", \"https://localhost:8084/\", window.element)"
            ],
            "text/plain": [
              "<IPython.core.display.Javascript object>"
            ]
          },
          "metadata": {},
          "output_type": "display_data"
        },
        {
          "metadata": {
            "tags": null
          },
          "name": "stdout",
          "output_type": "stream",
          "text": [
            "Your app is running at:\n",
            "https://v5udba9313n-496ff2e9c6d22116-8084-colab.googleusercontent.com/\n",
            " * Serving Flask app 'vanna.flask'\n",
            " * Debug mode: off\n"
          ]
        }
      ],
      "source": [
        "from vanna.flask import VannaFlaskApp\n",
        "VannaFlaskApp(vn).run()"
      ]
    },
    {
      "cell_type": "markdown",
      "metadata": {
        "id": "eo1382Vt2aSn"
      },
      "source": [
        "## Here's what you'll get\n",
        "![vanna-flask](https://vanna.ai/blog/img/vanna-flask.gif)"
      ]
    },
    {
      "cell_type": "markdown",
      "metadata": {
        "id": "ymmA534X2aSn"
      },
      "source": []
    }
  ],
  "metadata": {
    "language_info": {
      "name": "python"
    },
    "colab": {
      "provenance": []
    },
    "kernelspec": {
      "name": "python3",
      "display_name": "Python 3"
    }
  },
  "nbformat": 4,
  "nbformat_minor": 0
}