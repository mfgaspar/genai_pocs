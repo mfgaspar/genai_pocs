{
  "cells": [
    {
      "cell_type": "markdown",
      "metadata": {
        "id": "view-in-github",
        "colab_type": "text"
      },
      "source": [
        "<a href=\"https://colab.research.google.com/github/mfgaspar/genai_pocs/blob/main/Copy_of_app.ipynb\" target=\"_parent\"><img src=\"https://colab.research.google.com/assets/colab-badge.svg\" alt=\"Open In Colab\"/></a>"
      ]
    },
    {
      "cell_type": "markdown",
      "source": [
        "Notebook to Demo Talking with your database - Generates SQL, taking in consideration schemas, documentation and 'code' examples\n",
        "https://github.com/vanna-ai/vanna/\n"
      ],
      "metadata": {
        "id": "1HqlfPiezgL6"
      }
    },
    {
      "cell_type": "code",
      "execution_count": null,
      "metadata": {
        "colab": {
          "base_uri": "https://localhost:8080/"
        },
        "id": "ifHBq2mt2aSl",
        "outputId": "f3c63130-147d-41bd-8b58-898021243074"
      },
      "outputs": [
        {
          "output_type": "stream",
          "name": "stdout",
          "text": [
            "Collecting vanna\n",
            "  Downloading vanna-0.0.36-py3-none-any.whl (48 kB)\n",
            "\u001b[2K     \u001b[90m━━━━━━━━━━━━━━━━━━━━━━━━━━━━━━━━━━━━━━━━\u001b[0m \u001b[32m48.8/48.8 kB\u001b[0m \u001b[31m1.0 MB/s\u001b[0m eta \u001b[36m0:00:00\u001b[0m\n",
            "\u001b[?25hRequirement already satisfied: requests in /usr/local/lib/python3.10/dist-packages (from vanna) (2.31.0)\n",
            "Requirement already satisfied: tabulate in /usr/local/lib/python3.10/dist-packages (from vanna) (0.9.0)\n",
            "Requirement already satisfied: plotly in /usr/local/lib/python3.10/dist-packages (from vanna) (5.15.0)\n",
            "Requirement already satisfied: pandas in /usr/local/lib/python3.10/dist-packages (from vanna) (1.5.3)\n",
            "Requirement already satisfied: sqlparse in /usr/local/lib/python3.10/dist-packages (from vanna) (0.4.4)\n",
            "Collecting kaleido (from vanna)\n",
            "  Downloading kaleido-0.2.1-py2.py3-none-manylinux1_x86_64.whl (79.9 MB)\n",
            "\u001b[2K     \u001b[90m━━━━━━━━━━━━━━━━━━━━━━━━━━━━━━━━━━━━━━━━\u001b[0m \u001b[32m79.9/79.9 MB\u001b[0m \u001b[31m6.7 MB/s\u001b[0m eta \u001b[36m0:00:00\u001b[0m\n",
            "\u001b[?25hRequirement already satisfied: python-dateutil>=2.8.1 in /usr/local/lib/python3.10/dist-packages (from pandas->vanna) (2.8.2)\n",
            "Requirement already satisfied: pytz>=2020.1 in /usr/local/lib/python3.10/dist-packages (from pandas->vanna) (2023.3.post1)\n",
            "Requirement already satisfied: numpy>=1.21.0 in /usr/local/lib/python3.10/dist-packages (from pandas->vanna) (1.23.5)\n",
            "Requirement already satisfied: tenacity>=6.2.0 in /usr/local/lib/python3.10/dist-packages (from plotly->vanna) (8.2.3)\n",
            "Requirement already satisfied: packaging in /usr/local/lib/python3.10/dist-packages (from plotly->vanna) (23.2)\n",
            "Requirement already satisfied: charset-normalizer<4,>=2 in /usr/local/lib/python3.10/dist-packages (from requests->vanna) (3.3.2)\n",
            "Requirement already satisfied: idna<4,>=2.5 in /usr/local/lib/python3.10/dist-packages (from requests->vanna) (3.6)\n",
            "Requirement already satisfied: urllib3<3,>=1.21.1 in /usr/local/lib/python3.10/dist-packages (from requests->vanna) (2.0.7)\n",
            "Requirement already satisfied: certifi>=2017.4.17 in /usr/local/lib/python3.10/dist-packages (from requests->vanna) (2023.11.17)\n",
            "Requirement already satisfied: six>=1.5 in /usr/local/lib/python3.10/dist-packages (from python-dateutil>=2.8.1->pandas->vanna) (1.16.0)\n",
            "Installing collected packages: kaleido, vanna\n",
            "\u001b[31mERROR: pip's dependency resolver does not currently take into account all the packages that are installed. This behaviour is the source of the following dependency conflicts.\n",
            "lida 0.0.10 requires fastapi, which is not installed.\n",
            "lida 0.0.10 requires python-multipart, which is not installed.\n",
            "lida 0.0.10 requires uvicorn, which is not installed.\u001b[0m\u001b[31m\n",
            "\u001b[0mSuccessfully installed kaleido-0.2.1 vanna-0.0.36\n"
          ]
        }
      ],
      "source": [
        "!pip install vanna\n",
        "import vanna\n",
        "from vanna.remote import VannaDefault\n",
        "vn = VannaDefault(model='chinook', api_key='2b4a743f5b39431f906a4b494e2ab569')\n",
        "vn.connect_to_sqlite('https://vanna.ai/Chinook.sqlite')"
      ]
    },
    {
      "cell_type": "code",
      "source": [
        "question=\"Total sales for U2 per year?\"\n",
        "sql = vn.generate_sql(question=question)\n",
        "df = vn.run_sql(sql)\n",
        "followup = vn.generate_followup_questions(question=question, df=df)\n",
        "\n",
        "\n"
      ],
      "metadata": {
        "id": "ysTJgKV04Eea"
      },
      "execution_count": null,
      "outputs": []
    },
    {
      "cell_type": "code",
      "source": [
        "print(sql)\n",
        "print(df)\n",
        "print(followup)"
      ],
      "metadata": {
        "colab": {
          "base_uri": "https://localhost:8080/"
        },
        "id": "5TG6YARTAyJy",
        "outputId": "ac2b2f29-df66-41b7-9545-f06725f8274d"
      },
      "execution_count": null,
      "outputs": [
        {
          "output_type": "stream",
          "name": "stdout",
          "text": [
            "SELECT strftime('%Y', i.InvoiceDate) AS Year, SUM(il.UnitPrice * il.Quantity) AS TotalSales\n",
            "FROM Invoice i\n",
            "JOIN InvoiceLine il ON i.InvoiceId = il.InvoiceId\n",
            "JOIN Track t ON il.TrackId = t.TrackId\n",
            "JOIN Album a ON t.AlbumId = a.AlbumId\n",
            "JOIN Artist ar ON a.ArtistId = ar.ArtistId\n",
            "WHERE ar.Name = 'U2'\n",
            "GROUP BY Year;\n",
            "   Year  TotalSales\n",
            "0  2010       26.73\n",
            "1  2011       26.73\n",
            "2  2012       27.72\n",
            "3  2013       24.75\n",
            "['What are the total sales for each genre?', 'What are the top 10 albums with the highest total sales?', 'What are the total sales for each artist?', 'What are the total sales for each playlist?', 'What are the total sales for each customer?', 'What are the total sales for each year?', 'What are the top 7 artists with the highest total sales?', 'What are the top 10 artists with the highest total sales?', 'What are the top 10 customers with the highest total sales?', 'What are the top 10 playlists with the highest total sales?']\n"
          ]
        }
      ]
    },
    {
      "cell_type": "code",
      "execution_count": null,
      "metadata": {
        "colab": {
          "base_uri": "https://localhost:8080/",
          "height": 106
        },
        "id": "_yGKOA1r2aSm",
        "outputId": "e5a3d909-ba44-45d9-a6a7-3df1d1dba982"
      },
      "outputs": [
        {
          "output_type": "display_data",
          "data": {
            "text/plain": [
              "<IPython.core.display.Javascript object>"
            ],
            "application/javascript": [
              "(async (port, path, text, element) => {\n",
              "    if (!google.colab.kernel.accessAllowed) {\n",
              "      return;\n",
              "    }\n",
              "    element.appendChild(document.createTextNode(''));\n",
              "    const url = await google.colab.kernel.proxyPort(port);\n",
              "    const anchor = document.createElement('a');\n",
              "    anchor.href = new URL(path, url).toString();\n",
              "    anchor.target = '_blank';\n",
              "    anchor.setAttribute('data-href', url + path);\n",
              "    anchor.textContent = text;\n",
              "    element.appendChild(anchor);\n",
              "  })(8084, \"/\", \"https://localhost:8084/\", window.element)"
            ]
          },
          "metadata": {}
        },
        {
          "output_type": "stream",
          "name": "stdout",
          "text": [
            "Your app is running at:\n",
            "https://v5udba9313n-496ff2e9c6d22116-8084-colab.googleusercontent.com/\n",
            " * Serving Flask app 'vanna.flask'\n",
            " * Debug mode: off\n"
          ]
        }
      ],
      "source": [
        "from vanna.flask import VannaFlaskApp\n",
        "VannaFlaskApp(vn).run()"
      ]
    }
  ],
  "metadata": {
    "language_info": {
      "name": "python"
    },
    "colab": {
      "provenance": [],
      "include_colab_link": true
    },
    "kernelspec": {
      "name": "python3",
      "display_name": "Python 3"
    }
  },
  "nbformat": 4,
  "nbformat_minor": 0
}